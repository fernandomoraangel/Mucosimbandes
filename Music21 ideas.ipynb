{
 "cells": [
  {
   "cell_type": "code",
   "execution_count": 11,
   "id": "172f213a",
   "metadata": {},
   "outputs": [],
   "source": [
    "import music21 as  m21\n",
    "import os\n",
    "from IPython.display import Image, Audio"
   ]
  },
  {
   "cell_type": "code",
   "execution_count": 49,
   "id": "2e136448",
   "metadata": {},
   "outputs": [
    {
     "name": "stdout",
     "output_type": "stream",
     "text": [
      "lilypondPath:  C:\\LilyPond\\usr\\bin\\lilypond.exe\n",
      "Environment settings:\n",
      "musicXML:   C:\\Program Files\\MuseScore 3\\bin\\MuseScore3.exe\n",
      "musescore:  C:\\Program Files\\MuseScore 3\\bin\\MuseScore3.exe\n"
     ]
    },
    {
     "data": {
      "text/plain": [
       "True"
      ]
     },
     "execution_count": 49,
     "metadata": {},
     "output_type": "execute_result"
    }
   ],
   "source": [
    "#Configurar rutas de music21\n",
    "us = m21.environment.UserSettings()\n",
    "# get environment\n",
    "env = m21.environment.Environment()\n",
    "\n",
    "# check the path\n",
    "\n",
    "env['directoryScratch'] = r'C:/tmp' \n",
    "us['lilypondPath'] = 'C:/LilyPond/usr/bin/lilypond.exe'\n",
    "us['musescoreDirectPNGPath'] = r'C:/Program Files/MuseScore 3/bin/MuseScore3.exe' \n",
    "print('lilypondPath: ', env['lilypondPath'])\n",
    "# set path if necessary\n",
    "# env['musicxmlPath'] = 'path/to/your/musicXmlApplication'\n",
    "env['musescoreDirectPNGPath'] = r'C:/Program Files/MuseScore 3/bin/MuseScore3.exe'\n",
    "#us['musescoreDirectPNGPath'] = r'C:\\Program Files\\MuseScore 3\\bin\\MuseScore3.exe' \n",
    "us['musicxmlPath'] = r'C:/Program Files/MuseScore 3/bin/MuseScore3.exe'\n",
    "print('Environment settings:')\n",
    "print('musicXML:  ', env['musicxmlPath'])\n",
    "print('musescore: ', env['musescoreDirectPNGPath'])\n",
    "os.path.exists(env['musescoreDirectPNGPath'])\n"
   ]
  },
  {
   "cell_type": "code",
   "execution_count": 38,
   "id": "d8988efc",
   "metadata": {},
   "outputs": [],
   "source": [
    "# Create my own function to show stuff\n",
    "# Note the height constraint to Image doesn't seem to work.\n",
    "import pathlib\n",
    "import os\n",
    "from IPython.display import Image\n",
    "\n",
    "\n",
    "def show_m21(mObj, width=None, height=None):\n",
    "    # Save defaults\n",
    "    author = m21.defaults.author\n",
    "    title = m21.defaults.title\n",
    "    # Remove them\n",
    "    m21.defaults.author = None\n",
    "    m21.defaults.title = None\n",
    "\n",
    "    us = m21.environment.UserSettings()\n",
    "    scratchPath = pathlib.Path(us['directoryScratch'])\n",
    "    print(scratchPath)\n",
    "    fname = mObj.write()  # This writes a temp musicXML file and returns the name\n",
    "    p_mxml = pathlib.Path(fname)\n",
    "    p_out = p_mxml.with_suffix(\".png\")\n",
    "    # Create command string\n",
    "    musescorePath = us['musescoreDirectPNGPath']\n",
    "    print(musescorePath)\n",
    "    musescoreRun = '\"' + str(musescorePath) + '\" ' + \\\n",
    "        str(p_mxml) + ' -o  ' + str(p_out) + ' -T 0 '\n",
    "    print(musescoreRun)\n",
    "    os.system(musescoreRun)\n",
    "    png_files = scratchPath.glob(\"*.png\")\n",
    "    base_name = p_mxml.stem\n",
    "    # Restore defaults\n",
    "    m21.defaults.author = author\n",
    "    m21.defaults.title = author\n",
    "    for png in png_files:\n",
    "        if png.match(base_name + \"*\"):\n",
    "            return Image(filename=str(png), width=width, height=height)"
   ]
  },
  {
   "cell_type": "code",
   "execution_count": 51,
   "id": "8c91b2f1",
   "metadata": {},
   "outputs": [
    {
     "data": {
      "image/png": "[encoded data removed]",
      "text/plain": [
       "<IPython.core.display.Image object>"
      ]
     },
     "metadata": {
      "image/png": {
       "height": 49,
       "width": 146
      }
     },
     "output_type": "display_data"
    }
   ],
   "source": [
    "n = m21.note.Note('E5')\n",
    "n.duration.type = 'half'\n",
    "#n.show('text')\n",
    "#n.show('midi')\n",
    "n.show()\n",
    "#play(n)\n",
    "#Image(filename=n.write('lily.png'))\n",
    "#show_m21(n)\n"
   ]
  },
  {
   "cell_type": "code",
   "execution_count": 43,
   "id": "40b9aae9",
   "metadata": {},
   "outputs": [],
   "source": [
    "import music21\n",
    "\n",
    "user_settings = music21.environment.UserSettings()\n",
    "user_settings.restoreDefaults()\n",
    "MS_PATH = 'C:/Program Files/MuseScore 4/bin/MuseScore4.exe'\n",
    "user_settings['musicxmlPath'] = MS_PATH\n",
    "user_settings['musescoreDirectPNGPath'] = MS_PATH\n",
    "s = music21.corpus.parse('bach/bwv65.2.xml')\n",
    "#s.show()\n"
   ]
  }
 ],
 "metadata": {
  "kernelspec": {
   "display_name": "Python 3",
   "language": "python",
   "name": "python3"
  },
  "language_info": {
   "codemirror_mode": {
    "name": "ipython",
    "version": 3
   },
   "file_extension": ".py",
   "mimetype": "text/x-python",
   "name": "python",
   "nbconvert_exporter": "python",
   "pygments_lexer": "ipython3",
   "version": "3.10.4"
  },
  "vscode": {
   "interpreter": {
    "hash": "26de051ba29f2982a8de78e945f0abaf191376122a1563185a90213a26c5da77"
   }
  }
 },
 "nbformat": 4,
 "nbformat_minor": 5
}
