{
 "cells": [
  {
   "cell_type": "code",
   "execution_count": null,
   "metadata": {},
   "outputs": [],
   "source": [
    "a = music21.corpus.getWork('A un ancestro')\n",
    "f=music21.converter.parse(a)\n",
    "pattern = f.measures(3,3)\n",
    "#f.show()\n",
    "pattern.show()\n",
    "ss = music21.search.StreamSearcher(f, pattern)\n",
    "ss.recurse = True\n",
    "ss.filterNotesAndRests = True  # or `.filterNotesAndRests`\n",
    "ss.algorithms.append(music21.search.StreamSearcher.rhythmAlgorithm)\n",
    "ss.algorithms\n",
    "results = ss.run()\n",
    "results[0].elStart.measureNumber\n",
    "pattern2 = f.measures(results[0].elStart.measureNumber,results[0].elStart.measureNumber)\n",
    "pattern2.show()"
   ]
  },
  {
   "cell_type": "code",
   "execution_count": 1,
   "metadata": {},
   "outputs": [
    {
     "ename": "NameError",
     "evalue": "name 'music21' is not defined",
     "output_type": "error",
     "traceback": [
      "\u001b[1;31m---------------------------------------------------------------------------\u001b[0m",
      "\u001b[1;31mNameError\u001b[0m                                 Traceback (most recent call last)",
      "\u001b[1;32mUntitled-1.ipynb Cell 2'\u001b[0m in \u001b[0;36m<cell line: 1>\u001b[1;34m()\u001b[0m\n\u001b[1;32m----> <a href='vscode-notebook-cell:Untitled-1.ipynb?jupyter-notebook#ch0000001untitled?line=0'>1</a>\u001b[0m searchList \u001b[39m=\u001b[39m [music21\u001b[39m.\u001b[39mnote\u001b[39m.\u001b[39mNote(\u001b[39m'\u001b[39m\u001b[39mC\u001b[39m\u001b[39m'\u001b[39m), music21\u001b[39m.\u001b[39mnote\u001b[39m.\u001b[39mNote(\u001b[39m'\u001b[39m\u001b[39mD\u001b[39m\u001b[39m'\u001b[39m), music21\u001b[39m.\u001b[39mnote\u001b[39m.\u001b[39mNote(\u001b[39m'\u001b[39m\u001b[39mE\u001b[39m\u001b[39m'\u001b[39m)]\n\u001b[0;32m      <a href='vscode-notebook-cell:Untitled-1.ipynb?jupyter-notebook#ch0000001untitled?line=1'>2</a>\u001b[0m thisStreamIter \u001b[39m=\u001b[39m f\u001b[39m.\u001b[39mrecurse()\u001b[39m.\u001b[39mnotes\n\u001b[0;32m      <a href='vscode-notebook-cell:Untitled-1.ipynb?jupyter-notebook#ch0000001untitled?line=2'>3</a>\u001b[0m m\u001b[39m=\u001b[39mmusic21\u001b[39m.\u001b[39msearch\u001b[39m.\u001b[39mnoteNameSearch(f, searchList)\n",
      "\u001b[1;31mNameError\u001b[0m: name 'music21' is not defined"
     ]
    }
   ],
   "source": [
    "searchList = [music21.note.Note('C'), music21.note.Note('D'), music21.note.Note('E')]\n",
    "thisStreamIter = f.recurse().notes\n",
    "m=music21.search.noteNameSearch(f, searchList)\n",
    "print(m)\n",
    "print(type(m[0]))\n",
    "p=f.measures(m[0],m[1])\n",
    "p.show()"
   ]
  },
  {
   "cell_type": "code",
   "execution_count": null,
   "metadata": {},
   "outputs": [],
   "source": [
    "import traceback\n",
    "correctas=0\n",
    "incorrectas=0\n",
    "dfExc = pd.DataFrame(columns=['Exception'])\n",
    "for i in errores:\n",
    "    try:\n",
    "        a = music21.corpus.getWork(i)\n",
    "        #f=music21.converter.parse(a)\n",
    "        s=parseMelody(a)\n",
    "        correctas=correctas+1\n",
    "        print(i)\n",
    "    #f.show()\n",
    "    except Exception as e:\n",
    "        exc_type, exc_value, exc_traceback = sys.exc_info()\n",
    "        #print(exc_value)\n",
    "        dfExc.loc[i]=[exc_value]\n",
    "        incorrectas=incorrectas+1\n",
    "print(correctas, \" correctas\")\n",
    "print(incorrectas, \" incorrectas\")\n",
    "dfExc"
   ]
  }
 ],
 "metadata": {
  "kernelspec": {
   "display_name": "Python 3.10.4 64-bit",
   "language": "python",
   "name": "python3"
  },
  "language_info": {
   "codemirror_mode": {
    "name": "ipython",
    "version": 3
   },
   "file_extension": ".py",
   "mimetype": "text/x-python",
   "name": "python",
   "nbconvert_exporter": "python",
   "pygments_lexer": "ipython3",
   "version": "3.10.4"
  },
  "orig_nbformat": 4,
  "vscode": {
   "interpreter": {
    "hash": "26de051ba29f2982a8de78e945f0abaf191376122a1563185a90213a26c5da77"
   }
  }
 },
 "nbformat": 4,
 "nbformat_minor": 2
}
